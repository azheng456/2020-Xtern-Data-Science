{
  "nbformat": 4,
  "nbformat_minor": 0,
  "metadata": {
    "colab": {
      "name": "XternDS.ipynb",
      "provenance": [],
      "collapsed_sections": [],
      "include_colab_link": true
    },
    "kernelspec": {
      "name": "python3",
      "display_name": "Python 3"
    }
  },
  "cells": [
    {
      "cell_type": "markdown",
      "metadata": {
        "id": "view-in-github",
        "colab_type": "text"
      },
      "source": [
        "<a href=\"https://colab.research.google.com/github/azheng456/2020-Xtern-Data-Science/blob/main/XternDS.ipynb\" target=\"_parent\"><img src=\"https://colab.research.google.com/assets/colab-badge.svg\" alt=\"Open In Colab\"/></a>"
      ]
    },
    {
      "cell_type": "code",
      "metadata": {
        "id": "ruRBzNmk9lLE"
      },
      "source": [
        "#import pandas, matplotlib, and numpy for csv reading, data analysis, and visualization\n",
        "import pandas as pd\n",
        "import matplotlib.pyplot as plt\n",
        "import numpy as np\n",
        "from ipywidgets import *"
      ],
      "execution_count": 1,
      "outputs": []
    },
    {
      "cell_type": "code",
      "metadata": {
        "id": "2OxPqfiw9oXv"
      },
      "source": [
        "#use pandas read csv function to read in the provided data\n",
        "data = pd.read_csv('2020-XTern-DS.csv')\n",
        "\n",
        "#clean up data for readability in Python\n",
        "#Empty values in Reviews and Votes column are set to 0\n",
        "#However, this can't be applied to rating as a rating of 0 means something (bad)\n",
        "#Reviews and Votes are also changed to an integer format \n",
        "data['Reviews'].replace({'-':0},inplace=True)\n",
        "data['Reviews'] = data['Reviews'].astype(int)\n",
        "data['Votes'].replace({'-':0},inplace=True)\n",
        "data['Votes'] = data['Votes'].astype(int)\n",
        "#removed the $ sign, changed values such as x,yz to x.yz\n",
        "#and changed type to float\n",
        "data['Average_Cost'] = data['Average_Cost'].str.replace('$','')\n",
        "data['Average_Cost'] = data['Average_Cost'].str.replace(',','.')\n",
        "data['Average_Cost'] = data['Average_Cost'].astype(float)\n",
        "#do the same with minimum order\n",
        "data['Minimum_Order'] = data['Minimum_Order'].str.replace('$','')\n",
        "data['Minimum_Order'] = data['Minimum_Order'].astype(float)\n",
        "#for cook time, all values are in units of minutes so we can remove that\n",
        "#and change format to int\n",
        "data['Cook_Time'] = data['Cook_Time'].str.replace('minutes','')\n",
        "data['Cook_Time'] = data['Cook_Time'].astype(int)"
      ],
      "execution_count": 2,
      "outputs": []
    },
    {
      "cell_type": "code",
      "metadata": {
        "id": "e3ynP1pBuwkh",
        "outputId": "ae473af5-51a0-4272-d13a-90e1d92d5b79",
        "colab": {
          "base_uri": "https://localhost:8080/",
          "height": 87
        }
      },
      "source": [
        "#let's also make a dataset for only restaurants with ratings so we can analyze later\n",
        "#look at unique values of rating column, want to get rid of all\n",
        "#non number values\n",
        "data['Rating'].unique()"
      ],
      "execution_count": null,
      "outputs": [
        {
          "output_type": "execute_result",
          "data": {
            "text/plain": [
              "array(['3.5', '3.6', '3.7', '3.2', '3.8', '4.0', '3.9', '4.2', '-', '2.8',\n",
              "       '3.0', '3.3', '3.1', '4.7', '3.4', '4.1', 'NEW', '2.9', '4.6',\n",
              "       '4.3', '2.6', '4.5', '4.4', '4.8', '2.4', '2.7', '2.5',\n",
              "       'Opening Soon'], dtype=object)"
            ]
          },
          "metadata": {
            "tags": []
          },
          "execution_count": 293
        }
      ]
    },
    {
      "cell_type": "code",
      "metadata": {
        "id": "xqdVrVazuxSi"
      },
      "source": [
        "#-, NEW, Opening Soon are the values we need to exclude\n",
        "ratings = data.loc[(data['Rating']!='-')&(data['Rating']!='NEW')&(data['Rating']!='Opening Soon')]\n",
        "#change format to float\n",
        "ratings['Rating'] = ratings['Rating'].astype(float)"
      ],
      "execution_count": null,
      "outputs": []
    },
    {
      "cell_type": "markdown",
      "metadata": {
        "id": "_3KyCTlUilsc"
      },
      "source": [
        "**Finding #1**"
      ]
    },
    {
      "cell_type": "code",
      "metadata": {
        "id": "tFgjk8fJedoz",
        "outputId": "ebcb3411-e662-4bd8-a080-8fc3f7800d1d",
        "colab": {
          "base_uri": "https://localhost:8080/",
          "height": 69
        }
      },
      "source": [
        "#slice the dataset to only include controversial restaurants where there\n",
        "#are over 500 reviews in a new dataset called 'controv'\n",
        "controv = data.loc[data['Reviews']>500]\n",
        "\n",
        "#We take a look at the ratio of wait times that are over 45 mins in both\n",
        "#regular restaurants and our version of 'controversial' restaurants\n",
        "a=b=c=d=0\n",
        "for x in data['Cook_Time']:\n",
        "  if x>=45:\n",
        "    a+=1\n",
        "  b+=1\n",
        "for x in controv['Cook_Time']:\n",
        "  if x>=45:\n",
        "    c+=1\n",
        "  d+=1\n",
        "\n",
        "print(\"The percentage that restaurants have a cook time that takes at least 45 minutes in...\")\n",
        "#output as a percentage as that is easiest for us to understand the value\n",
        "#and process what it means\n",
        "print(\"All Restaurants: \" + str(round(a/b*100,2)) + \"%\")\n",
        "print(\"Controversial Restaurants: \" + str(round(c/d*100,2)) + \"%\")"
      ],
      "execution_count": null,
      "outputs": [
        {
          "output_type": "stream",
          "text": [
            "The percentage that restaurants have a cook time that takes at least 45 minutes in...\n",
            "All Restaurants: 33.09%\n",
            "Controversial Restaurants: 76.19%\n"
          ],
          "name": "stdout"
        }
      ]
    },
    {
      "cell_type": "markdown",
      "metadata": {
        "id": "-KOB1WbSioTf"
      },
      "source": [
        "This finding shows that controversial restaurants (not necessarily bad, but have a high number of reviews) have a significantly higher average wait time. This could also be good or bad, but it shows the popularity of these restaurants. Customers who want to try popular restaurants with a lot of reviews may have to wait much longer than other restaurants. Let's also make a pie chart to see a larger breakdown of cook times.\n"
      ]
    },
    {
      "cell_type": "code",
      "metadata": {
        "id": "FZptdP1FKW0C",
        "outputId": "c20c6583-8e0e-43f0-8185-c651e44c9b83",
        "colab": {
          "base_uri": "https://localhost:8080/",
          "height": 511
        }
      },
      "source": [
        "a=b=c=d=e=f=0\n",
        "labels = 'Short', 'Medium', 'Long'\n",
        "#all restaurants\n",
        "for x in data['Cook_Time']:\n",
        "  if x<=30:\n",
        "    a+=1\n",
        "  elif x<=45:\n",
        "    b+=1\n",
        "  else:\n",
        "    c+=1\n",
        "sizes = [a,b,c]\n",
        "fig1, ax1 = plt.subplots()\n",
        "ax1.pie(sizes, labels=labels, autopct='%1.1f%%',\n",
        "        shadow=True, startangle=90)\n",
        "plt.title(\"Cook Times in All Restaurants\")\n",
        "plt.show()\n",
        "\n",
        "#controversial restaurants\n",
        "for x in controv['Cook_Time']:\n",
        "  if x<=30:\n",
        "    d+=1\n",
        "  elif x<=45:\n",
        "    e+=1\n",
        "  else:\n",
        "    f+=1\n",
        "sizes = [d,e,f]\n",
        "fig1, ax1 = plt.subplots()\n",
        "ax1.pie(sizes, labels=labels, autopct='%1.1f%%',\n",
        "        shadow=True, startangle=90)\n",
        "plt.title(\"Cook Times in Controversial Restaurants\")\n",
        "plt.show()"
      ],
      "execution_count": null,
      "outputs": [
        {
          "output_type": "display_data",
          "data": {
            "image/png": "[encoded data removed]",
            "text/plain": [
              "<Figure size 432x288 with 1 Axes>"
            ]
          },
          "metadata": {
            "tags": []
          }
        },
        {
          "output_type": "display_data",
          "data": {
            "image/png": "[encoded data removed]",
            "text/plain": [
              "<Figure size 432x288 with 1 Axes>"
            ]
          },
          "metadata": {
            "tags": []
          }
        }
      ]
    },
    {
      "cell_type": "markdown",
      "metadata": {
        "id": "3sa571PkNtMY"
      },
      "source": [
        "As shown by the contrasting distribution in the pie charts, out of all restaurants, most had a \"short\" cook time, characterized by 30 or less minutes. Meanwhile, controversial restaurants had a much different distribution, with the majority of cook times being between 30 and 45 minutes, inclusive, and long cook times of over 45 minutes being almost as common as short cook times. This highlights the difference of controversial restaurants with a lot of reviews."
      ]
    },
    {
      "cell_type": "markdown",
      "metadata": {
        "id": "567S1bebi8JB"
      },
      "source": [
        "**Finding #2**"
      ]
    },
    {
      "cell_type": "code",
      "metadata": {
        "id": "K2aBY3V1-W79",
        "outputId": "1eec4cdf-41b4-442e-ec2e-b33001cccf7c",
        "colab": {
          "base_uri": "https://localhost:8080/",
          "height": 279
        }
      },
      "source": [
        "#Let's take a look at how the restaurants are spread out\n",
        "#based on latitude and longitude\n",
        "plt.plot(data['Latitude'], data['Longitude'], 'go',markersize=3)\n",
        "plt.xlabel('Latitude')\n",
        "plt.ylabel('Longitude')\n",
        "plt.show()"
      ],
      "execution_count": null,
      "outputs": [
        {
          "output_type": "display_data",
          "data": {
            "image/png": "[encoded data removed]",
            "text/plain": [
              "<Figure size 432x288 with 1 Axes>"
            ]
          },
          "metadata": {
            "tags": [],
            "needs_background": "light"
          }
        }
      ]
    },
    {
      "cell_type": "markdown",
      "metadata": {
        "id": "ycLJJRGMmKLp"
      },
      "source": [
        "Well, it's hard to tell anything with this many datapoints. Let's break the restaurants up into 4 regions and look at the averages of restaurants in each region. We'll look at an objective measure, Rating, so we will use the ratings dataframe we made earlier with only restaurants that have a numeric rating.\n"
      ]
    },
    {
      "cell_type": "code",
      "metadata": {
        "id": "iDbZ_q9qmQ68",
        "outputId": "76d0597a-f033-4a33-96ff-730fd7d3012f",
        "colab": {
          "base_uri": "https://localhost:8080/",
          "height": 173
        }
      },
      "source": [
        "#get the 50% value of latitude and longitude\n",
        "ratings['Latitude'].describe()"
      ],
      "execution_count": null,
      "outputs": [
        {
          "output_type": "execute_result",
          "data": {
            "text/plain": [
              "count    1666.000000\n",
              "mean       39.503615\n",
              "std         0.287469\n",
              "min        39.000105\n",
              "25%        39.260630\n",
              "50%        39.506984\n",
              "75%        39.753907\n",
              "max        39.999523\n",
              "Name: Latitude, dtype: float64"
            ]
          },
          "metadata": {
            "tags": []
          },
          "execution_count": 298
        }
      ]
    },
    {
      "cell_type": "code",
      "metadata": {
        "id": "oP9I9sZhmdVG",
        "outputId": "9eda5b4f-2d82-496c-be5e-dadbe2b27fbe",
        "colab": {
          "base_uri": "https://localhost:8080/",
          "height": 173
        }
      },
      "source": [
        "ratings['Longitude'].describe()"
      ],
      "execution_count": null,
      "outputs": [
        {
          "output_type": "execute_result",
          "data": {
            "text/plain": [
              "count    1666.000000\n",
              "mean      -85.503619\n",
              "std         0.290402\n",
              "min       -85.998844\n",
              "25%       -85.746871\n",
              "50%       -85.507890\n",
              "75%       -85.249105\n",
              "max       -85.001541\n",
              "Name: Longitude, dtype: float64"
            ]
          },
          "metadata": {
            "tags": []
          },
          "execution_count": 299
        }
      ]
    },
    {
      "cell_type": "code",
      "metadata": {
        "id": "69ieUTYzwK_1"
      },
      "source": [
        "#divide up the 4 regions based off the middle (50%)\n",
        "#of the latitude and longitude values\n",
        "northeast = ratings.loc[(ratings['Latitude']>=39.506984) & (ratings['Longitude']>=-85.507890)]\n",
        "northwest = ratings.loc[(ratings['Latitude']<39.506984) & (ratings['Longitude']>=-85.507890)]\n",
        "southeast = ratings.loc[(ratings['Latitude']>=39.506984) & (ratings['Longitude']<-85.507890)]\n",
        "southwest = ratings.loc[(ratings['Latitude']<39.506984) & (ratings['Longitude']<-85.507890)]\n",
        "#perfect, all of them have a very similar amount of restaurants"
      ],
      "execution_count": null,
      "outputs": []
    },
    {
      "cell_type": "code",
      "metadata": {
        "id": "ypMdL7gsxi18",
        "outputId": "199cf7fc-4cfe-4c1b-fdaa-f40407baabf6",
        "colab": {
          "base_uri": "https://localhost:8080/",
          "height": 87
        }
      },
      "source": [
        "print(\"Northeast restaurants have a mean rating of \"+str(round(northeast['Rating'].mean(),3))+\n",
        "      \" and standard deviation of \" + str(round(northeast['Rating'].std(),4)))\n",
        "print(\"Northwest restaurants have a mean rating of \"+str(round(northwest['Rating'].mean(),3))+\n",
        "      \" and standard deviation of \" + str(round(northwest['Rating'].std(),4)))\n",
        "print(\"Southeast restaurants have a mean rating of \"+str(round(southeast['Rating'].mean(),3))+\n",
        "      \" and standard deviation of \" + str(round(southeast['Rating'].std(),4)))\n",
        "print(\"Southwest restaurants have a mean rating of \"+str(round(southwest['Rating'].mean(),3))+\n",
        "      \" and standard deviation of \" + str(round(southwest['Rating'].std(),4)))"
      ],
      "execution_count": null,
      "outputs": [
        {
          "output_type": "stream",
          "text": [
            "Northeast restaurants have a mean rating of 3.593 and standard deviation of 0.4233\n",
            "Northwest restaurants have a mean rating of 3.632 and standard deviation of 0.418\n",
            "Southeast restaurants have a mean rating of 3.581 and standard deviation of 0.4222\n",
            "Southwest restaurants have a mean rating of 3.631 and standard deviation of 0.4252\n"
          ],
          "name": "stdout"
        }
      ]
    },
    {
      "cell_type": "markdown",
      "metadata": {
        "id": "ra_y2C0QzlvR"
      },
      "source": [
        "Let's graph our results out to visualize it better. A boxplot chart is best suited to look at median and standard deviations.\n"
      ]
    },
    {
      "cell_type": "code",
      "metadata": {
        "id": "SMPzBOgfziL8",
        "outputId": "3cc5a554-5270-4b18-8cb2-0ba97ce63230",
        "colab": {
          "base_uri": "https://localhost:8080/",
          "height": 408
        }
      },
      "source": [
        "data = [northeast['Rating'], northwest['Rating'], southeast['Rating'], southwest['Rating']] \n",
        "  \n",
        "fig = plt.figure(figsize =(8, 5)) \n",
        "  \n",
        "ax = fig.add_axes([0, 0, 1, 1]) \n",
        "\n",
        "ax.set_xticklabels(['Northeast', 'Northwest',  \n",
        "                    'Southeast', 'Southwest']) \n",
        "ax.set_ylabel('Rating')\n",
        " \n",
        "bp = ax.boxplot(data) \n",
        "  \n",
        "plt.show() "
      ],
      "execution_count": null,
      "outputs": [
        {
          "output_type": "display_data",
          "data": {
            "image/png": "[encoded data removed]",
            "text/plain": [
              "<Figure size 576x360 with 1 Axes>"
            ]
          },
          "metadata": {
            "tags": [],
            "needs_background": "light"
          }
        }
      ]
    },
    {
      "cell_type": "markdown",
      "metadata": {
        "id": "LvMvnvzuynQ0"
      },
      "source": [
        "Although the averages are quite similar (expected with a large sample size), based on our previous calculations, we find that in order of mean ratings by region, the order goes Northwest, Southwest, Northeast, then Southeast. In terms of variability of ratings, the order goes (from most variability to the least) Southwest, Northeast, Southeast, and Northwest. From the boxplots, it's extremely interesting that although Northwest had the smallest standard deviation, it was the only region with rating outliers."
      ]
    },
    {
      "cell_type": "markdown",
      "metadata": {
        "id": "TJMVHQ-N0rvG"
      },
      "source": [
        "**Finding #3**"
      ]
    },
    {
      "cell_type": "markdown",
      "metadata": {
        "id": "Wadw8Bac0vfa"
      },
      "source": [
        "Let's use the regions again, but this time we can look at more subjective aspects of the restaurants. We'll use Average Cost, Minimum Order, Votes, and Cook Time. These values don't put restaurants above each other, however, as although most people may want a faster cooking time, some might be looking for a good dining experience and are willing to wait longer to have a more enjoyable time."
      ]
    },
    {
      "cell_type": "code",
      "metadata": {
        "id": "0l1rsh412c6b",
        "outputId": "4c143547-7c31-48e0-86ca-dc96ec5785f5",
        "colab": {
          "base_uri": "https://localhost:8080/",
          "height": 295
        }
      },
      "source": [
        "d1 = (northeast['Reviews'],northeast['Votes'])\n",
        "d2 = (northwest['Reviews'],northwest['Votes'])\n",
        "d3 = (southeast['Reviews'],southeast['Votes'])\n",
        "d4 = (southwest['Reviews'],southwest['Votes'])\n",
        "\n",
        "data = (d1, d2, d3, d4)\n",
        "colors = (\"red\", \"green\", \"blue\", \"orange\")\n",
        "groups = (\"NE\", \"NW\", \"SE\", \"SW\")\n",
        "\n",
        "fig = plt.figure()\n",
        "ax = fig.add_subplot(1, 1, 1, facecolor=\"1.0\")\n",
        "\n",
        "for data, color, group in zip(data, colors, groups):\n",
        "  x, y = data\n",
        "  ax.scatter(x, y, alpha=0.8, c=color, edgecolors='none', s=30, label=group)\n",
        "plt.xlabel('Reviews')\n",
        "plt.ylabel('Votes')\n",
        "plt.title('Votes and Reviews by Region')\n",
        "plt.legend(loc=2)\n",
        "plt.show()"
      ],
      "execution_count": null,
      "outputs": [
        {
          "output_type": "display_data",
          "data": {
            "image/png": "[encoded data removed]",
            "text/plain": [
              "<Figure size 432x288 with 1 Axes>"
            ]
          },
          "metadata": {
            "tags": [],
            "needs_background": "light"
          }
        }
      ]
    },
    {
      "cell_type": "markdown",
      "metadata": {
        "id": "NAprXv3fOlBN"
      },
      "source": [
        "There are 2 clear outliers, and both interestingly belong in the Southeast region. These 2 restaurants must be worth checking out with a very high number of reviews each. For visualization purposes, we will remove the 2 outliers to get a better look at all the other restaurants."
      ]
    },
    {
      "cell_type": "code",
      "metadata": {
        "id": "ayzU-frV7ijT"
      },
      "source": [
        "se_new = southeast.loc[southeast['Reviews']!=southeast['Reviews'].max()]\n",
        "se_new = se_new.loc[se_new['Reviews']!=se_new['Reviews'].max()]"
      ],
      "execution_count": null,
      "outputs": []
    },
    {
      "cell_type": "code",
      "metadata": {
        "id": "IYkztqIv8FaY",
        "outputId": "e74617fb-3ce2-4111-b598-4c31ca48dc59",
        "colab": {
          "base_uri": "https://localhost:8080/",
          "height": 295
        }
      },
      "source": [
        "d1 = (northeast['Reviews'],northeast['Votes'])\n",
        "d2 = (northwest['Reviews'],northwest['Votes'])\n",
        "d3 = (se_new['Reviews'],se_new['Votes'])\n",
        "d4 = (southwest['Reviews'],southwest['Votes'])\n",
        "\n",
        "data = (d1, d2, d3, d4)\n",
        "colors = (\"red\", \"green\", \"blue\", \"orange\")\n",
        "groups = (\"NE\", \"NW\", \"SE\", \"SW\")\n",
        "\n",
        "fig = plt.figure()\n",
        "ax = fig.add_subplot(1, 1, 1, facecolor=\"1.0\")\n",
        "\n",
        "for data, color, group in zip(data, colors, groups):\n",
        "  x, y = data\n",
        "  ax.scatter(x, y, alpha=0.8, c=color, edgecolors='none', s=30, label=group)\n",
        "plt.xlabel('Reviews')\n",
        "plt.ylabel('Votes')\n",
        "plt.title('Votes and Reviews by Region')\n",
        "plt.legend(loc=2)\n",
        "plt.show()"
      ],
      "execution_count": null,
      "outputs": [
        {
          "output_type": "display_data",
          "data": {
            "image/png": "[encoded data removed]",
            "text/plain": [
              "<Figure size 432x288 with 1 Axes>"
            ]
          },
          "metadata": {
            "tags": [],
            "needs_background": "light"
          }
        }
      ]
    },
    {
      "cell_type": "code",
      "metadata": {
        "id": "hgcfQqZAPXsA",
        "outputId": "7d9906ff-2708-4480-93fd-44279c495961",
        "colab": {
          "base_uri": "https://localhost:8080/",
          "height": 87
        }
      },
      "source": [
        "print(northeast['Reviews'].mean())\n",
        "print(northwest['Reviews'].mean())\n",
        "print(southeast['Reviews'].mean())\n",
        "print(southwest['Reviews'].mean())"
      ],
      "execution_count": null,
      "outputs": [
        {
          "output_type": "stream",
          "text": [
            "113.19575471698113\n",
            "111.72616136919315\n",
            "133.73349633251834\n",
            "131.88443396226415\n"
          ],
          "name": "stdout"
        }
      ]
    },
    {
      "cell_type": "markdown",
      "metadata": {
        "id": "MP2lKtX1PqZp"
      },
      "source": [
        "The scatterplot along with the means of each of the 4 regions show the popularity of the restaurants in the regions. The order of popularity goes Southeast, Southwest, followed by a sizeable gap with Northeast and Northwest trailing. It is evident with these results that the restaurants in the South have much more reviews and votes than restaurants in the North."
      ]
    },
    {
      "cell_type": "markdown",
      "metadata": {
        "id": "l2mc8PoJ8iFq"
      },
      "source": [
        "**Finding #4**"
      ]
    },
    {
      "cell_type": "markdown",
      "metadata": {
        "id": "zfq7AngdklFn"
      },
      "source": [
        "Let's say a user wants to rank certain criteria and wants a list of the top restaurants that fit his criteria. Because GitHub does not support interactivity (dropdown menu, sliding bar, etc), I will choose example values. The ranking system will be from 1-10 (1 being doesn't matter and 10 being very important) for each of the criteria and output a score for each restaurant; the highest 20 scores will be outputted to the user."
      ]
    },
    {
      "cell_type": "code",
      "metadata": {
        "id": "xejDSIXBedfS",
        "outputId": "09bb2fd0-79ee-43fe-da15-def543078e07",
        "colab": {
          "base_uri": "https://localhost:8080/",
          "height": 1000
        }
      },
      "source": [
        "#We set the 1-10 values of each of the 5 variables\n",
        "cost=8\n",
        "review=3\n",
        "location=9 #south\n",
        "rating=6\n",
        "cook=4\n",
        "#initialize new column Score\n",
        "ratings[\"Score\"]=\"\"\n",
        "for x in ratings.axes[0]:\n",
        "  score=0\n",
        "  #our algorithm takes the (value-minimum) / range, and multiplies it by the\n",
        "  #1-10 value we set, sometimes the inverse (in cost and cook time case)\n",
        "  score += ((ratings['Average_Cost'][x]-1)/149*(10-cost) + [ratings['Reviews'][x]/6504*review + \n",
        "          (ratings['Longitude'][x]+86)/1*location + (ratings['Rating'][x]-2.4)/2.4*rating +\n",
        "          (ratings['Cook_Time'][x]-20)/100*(10-cook)])\n",
        "  ratings[\"Score\"][x]=score\n",
        "#sort the new df by score\n",
        "results = ratings.sort_values(by='Score',ascending=False)\n",
        "#get the top 20 results\n",
        "results.head(20)"
      ],
      "execution_count": null,
      "outputs": [
        {
          "output_type": "stream",
          "text": [
            "/usr/local/lib/python3.6/dist-packages/ipykernel_launcher.py:8: SettingWithCopyWarning: \n",
            "A value is trying to be set on a copy of a slice from a DataFrame.\n",
            "Try using .loc[row_indexer,col_indexer] = value instead\n",
            "\n",
            "See the caveats in the documentation: https://pandas.pydata.org/pandas-docs/stable/user_guide/indexing.html#returning-a-view-versus-a-copy\n",
            "  \n",
            "/usr/local/lib/python3.6/dist-packages/ipykernel_launcher.py:16: SettingWithCopyWarning: \n",
            "A value is trying to be set on a copy of a slice from a DataFrame\n",
            "\n",
            "See the caveats in the documentation: https://pandas.pydata.org/pandas-docs/stable/user_guide/indexing.html#returning-a-view-versus-a-copy\n",
            "  app.launch_new_instance()\n",
            "/usr/local/lib/python3.6/dist-packages/IPython/core/interactiveshell.py:2882: SettingWithCopyWarning: \n",
            "A value is trying to be set on a copy of a slice from a DataFrame\n",
            "\n",
            "See the caveats in the documentation: https://pandas.pydata.org/pandas-docs/stable/user_guide/indexing.html#returning-a-view-versus-a-copy\n",
            "  exec(code_obj, self.user_global_ns, self.user_ns)\n"
          ],
          "name": "stderr"
        },
        {
          "output_type": "execute_result",
          "data": {
            "text/html": [
              "<div>\n",
              "<style scoped>\n",
              "    .dataframe tbody tr th:only-of-type {\n",
              "        vertical-align: middle;\n",
              "    }\n",
              "\n",
              "    .dataframe tbody tr th {\n",
              "        vertical-align: top;\n",
              "    }\n",
              "\n",
              "    .dataframe thead th {\n",
              "        text-align: right;\n",
              "    }\n",
              "</style>\n",
              "<table border=\"1\" class=\"dataframe\">\n",
              "  <thead>\n",
              "    <tr style=\"text-align: right;\">\n",
              "      <th></th>\n",
              "      <th>Restaurant</th>\n",
              "      <th>Latitude</th>\n",
              "      <th>Longitude</th>\n",
              "      <th>Cuisines</th>\n",
              "      <th>Average_Cost</th>\n",
              "      <th>Minimum_Order</th>\n",
              "      <th>Rating</th>\n",
              "      <th>Votes</th>\n",
              "      <th>Reviews</th>\n",
              "      <th>Cook_Time</th>\n",
              "      <th>Score</th>\n",
              "    </tr>\n",
              "  </thead>\n",
              "  <tbody>\n",
              "    <tr>\n",
              "      <th>602</th>\n",
              "      <td>ID_8529</td>\n",
              "      <td>39.356060</td>\n",
              "      <td>-85.011488</td>\n",
              "      <td>Cafe, Fast Food</td>\n",
              "      <td>30.0</td>\n",
              "      <td>50.0</td>\n",
              "      <td>4.5</td>\n",
              "      <td>1349</td>\n",
              "      <td>972</td>\n",
              "      <td>65</td>\n",
              "      <td>[17.684207968361303]</td>\n",
              "    </tr>\n",
              "    <tr>\n",
              "      <th>683</th>\n",
              "      <td>ID_5879</td>\n",
              "      <td>39.416346</td>\n",
              "      <td>-85.061462</td>\n",
              "      <td>North Indian, Mughlai, Kebab</td>\n",
              "      <td>90.0</td>\n",
              "      <td>450.0</td>\n",
              "      <td>4.2</td>\n",
              "      <td>1262</td>\n",
              "      <td>758</td>\n",
              "      <td>65</td>\n",
              "      <td>[17.19110521879318]</td>\n",
              "    </tr>\n",
              "    <tr>\n",
              "      <th>973</th>\n",
              "      <td>ID_2421</td>\n",
              "      <td>39.351230</td>\n",
              "      <td>-85.012645</td>\n",
              "      <td>Continental, North Indian, Mughlai, Italian, A...</td>\n",
              "      <td>80.0</td>\n",
              "      <td>50.0</td>\n",
              "      <td>4.5</td>\n",
              "      <td>2831</td>\n",
              "      <td>1415</td>\n",
              "      <td>30</td>\n",
              "      <td>[16.44926855131655]</td>\n",
              "    </tr>\n",
              "    <tr>\n",
              "      <th>80</th>\n",
              "      <td>ID_7753</td>\n",
              "      <td>39.571114</td>\n",
              "      <td>-85.069320</td>\n",
              "      <td>European, Continental, North Indian, Desserts</td>\n",
              "      <td>75.0</td>\n",
              "      <td>50.0</td>\n",
              "      <td>4.3</td>\n",
              "      <td>3124</td>\n",
              "      <td>1660</td>\n",
              "      <td>45</td>\n",
              "      <td>[16.385091337430623]</td>\n",
              "    </tr>\n",
              "    <tr>\n",
              "      <th>785</th>\n",
              "      <td>ID_596</td>\n",
              "      <td>39.046004</td>\n",
              "      <td>-85.285628</td>\n",
              "      <td>Bakery, Desserts, Fast Food</td>\n",
              "      <td>25.0</td>\n",
              "      <td>99.0</td>\n",
              "      <td>3.8</td>\n",
              "      <td>27</td>\n",
              "      <td>23</td>\n",
              "      <td>120</td>\n",
              "      <td>[16.26210396709533]</td>\n",
              "    </tr>\n",
              "    <tr>\n",
              "      <th>1342</th>\n",
              "      <td>ID_7879</td>\n",
              "      <td>39.624209</td>\n",
              "      <td>-85.028977</td>\n",
              "      <td>Kashmiri, North Indian, Mughlai, Seafood</td>\n",
              "      <td>45.0</td>\n",
              "      <td>0.0</td>\n",
              "      <td>4.0</td>\n",
              "      <td>829</td>\n",
              "      <td>432</td>\n",
              "      <td>65</td>\n",
              "      <td>[16.229077249465618]</td>\n",
              "    </tr>\n",
              "    <tr>\n",
              "      <th>717</th>\n",
              "      <td>ID_1415</td>\n",
              "      <td>39.527835</td>\n",
              "      <td>-85.015468</td>\n",
              "      <td>Burger, Fast Food</td>\n",
              "      <td>20.0</td>\n",
              "      <td>99.0</td>\n",
              "      <td>4.0</td>\n",
              "      <td>1155</td>\n",
              "      <td>845</td>\n",
              "      <td>65</td>\n",
              "      <td>[16.205579454648475]</td>\n",
              "    </tr>\n",
              "    <tr>\n",
              "      <th>1743</th>\n",
              "      <td>ID_981</td>\n",
              "      <td>39.851230</td>\n",
              "      <td>-85.041865</td>\n",
              "      <td>Cafe, Salad, Italian, American, Bakery, Beverages</td>\n",
              "      <td>40.0</td>\n",
              "      <td>50.0</td>\n",
              "      <td>4.5</td>\n",
              "      <td>879</td>\n",
              "      <td>518</td>\n",
              "      <td>45</td>\n",
              "      <td>[16.135630592184757]</td>\n",
              "    </tr>\n",
              "    <tr>\n",
              "      <th>928</th>\n",
              "      <td>ID_4204</td>\n",
              "      <td>39.382805</td>\n",
              "      <td>-85.271197</td>\n",
              "      <td>Bakery, Fast Food, Desserts</td>\n",
              "      <td>20.0</td>\n",
              "      <td>50.0</td>\n",
              "      <td>3.7</td>\n",
              "      <td>147</td>\n",
              "      <td>72</td>\n",
              "      <td>120</td>\n",
              "      <td>[16.097475029150253]</td>\n",
              "    </tr>\n",
              "    <tr>\n",
              "      <th>35</th>\n",
              "      <td>ID_1160</td>\n",
              "      <td>39.246289</td>\n",
              "      <td>-85.152915</td>\n",
              "      <td>Asian, Burmese, Bubble Tea, Desserts, Salad, T...</td>\n",
              "      <td>60.0</td>\n",
              "      <td>50.0</td>\n",
              "      <td>4.7</td>\n",
              "      <td>914</td>\n",
              "      <td>499</td>\n",
              "      <td>45</td>\n",
              "      <td>[15.895873220385326]</td>\n",
              "    </tr>\n",
              "    <tr>\n",
              "      <th>1804</th>\n",
              "      <td>ID_4918</td>\n",
              "      <td>39.246569</td>\n",
              "      <td>-85.005987</td>\n",
              "      <td>North Indian, Chinese</td>\n",
              "      <td>35.0</td>\n",
              "      <td>50.0</td>\n",
              "      <td>3.9</td>\n",
              "      <td>109</td>\n",
              "      <td>64</td>\n",
              "      <td>65</td>\n",
              "      <td>[15.882008724129168]</td>\n",
              "    </tr>\n",
              "    <tr>\n",
              "      <th>770</th>\n",
              "      <td>ID_847</td>\n",
              "      <td>39.446138</td>\n",
              "      <td>-85.139694</td>\n",
              "      <td>North Indian, Street Food, South Indian, Mithai</td>\n",
              "      <td>30.0</td>\n",
              "      <td>99.0</td>\n",
              "      <td>4.2</td>\n",
              "      <td>3021</td>\n",
              "      <td>1174</td>\n",
              "      <td>65</td>\n",
              "      <td>[15.873529830095578]</td>\n",
              "    </tr>\n",
              "    <tr>\n",
              "      <th>454</th>\n",
              "      <td>ID_5393</td>\n",
              "      <td>39.978028</td>\n",
              "      <td>-85.014355</td>\n",
              "      <td>South Indian, Continental, Fast Food</td>\n",
              "      <td>30.0</td>\n",
              "      <td>99.0</td>\n",
              "      <td>3.9</td>\n",
              "      <td>232</td>\n",
              "      <td>105</td>\n",
              "      <td>65</td>\n",
              "      <td>[15.75850009928384]</td>\n",
              "    </tr>\n",
              "    <tr>\n",
              "      <th>1220</th>\n",
              "      <td>ID_2386</td>\n",
              "      <td>39.238262</td>\n",
              "      <td>-85.106835</td>\n",
              "      <td>Asian, Chinese</td>\n",
              "      <td>30.0</td>\n",
              "      <td>50.0</td>\n",
              "      <td>4.2</td>\n",
              "      <td>510</td>\n",
              "      <td>230</td>\n",
              "      <td>65</td>\n",
              "      <td>[15.733832425852036]</td>\n",
              "    </tr>\n",
              "    <tr>\n",
              "      <th>1751</th>\n",
              "      <td>ID_2394</td>\n",
              "      <td>39.506094</td>\n",
              "      <td>-85.019381</td>\n",
              "      <td>Street Food</td>\n",
              "      <td>10.0</td>\n",
              "      <td>50.0</td>\n",
              "      <td>4.0</td>\n",
              "      <td>329</td>\n",
              "      <td>131</td>\n",
              "      <td>65</td>\n",
              "      <td>[15.706797843371117]</td>\n",
              "    </tr>\n",
              "    <tr>\n",
              "      <th>1447</th>\n",
              "      <td>ID_2542</td>\n",
              "      <td>39.135302</td>\n",
              "      <td>-85.003190</td>\n",
              "      <td>Italian, Mexican</td>\n",
              "      <td>20.0</td>\n",
              "      <td>50.0</td>\n",
              "      <td>3.9</td>\n",
              "      <td>65</td>\n",
              "      <td>44</td>\n",
              "      <td>65</td>\n",
              "      <td>[15.696616239999026]</td>\n",
              "    </tr>\n",
              "    <tr>\n",
              "      <th>790</th>\n",
              "      <td>ID_6261</td>\n",
              "      <td>39.272645</td>\n",
              "      <td>-85.063428</td>\n",
              "      <td>North Indian, Chinese, Rolls, Momos</td>\n",
              "      <td>15.0</td>\n",
              "      <td>50.0</td>\n",
              "      <td>4.1</td>\n",
              "      <td>318</td>\n",
              "      <td>235</td>\n",
              "      <td>65</td>\n",
              "      <td>[15.675466257035644]</td>\n",
              "    </tr>\n",
              "    <tr>\n",
              "      <th>1058</th>\n",
              "      <td>ID_1841</td>\n",
              "      <td>39.914316</td>\n",
              "      <td>-85.074936</td>\n",
              "      <td>Cafe, Fast Food, Beverages</td>\n",
              "      <td>30.0</td>\n",
              "      <td>50.0</td>\n",
              "      <td>4.4</td>\n",
              "      <td>1434</td>\n",
              "      <td>941</td>\n",
              "      <td>45</td>\n",
              "      <td>[15.648880585372398]</td>\n",
              "    </tr>\n",
              "    <tr>\n",
              "      <th>1634</th>\n",
              "      <td>ID_3859</td>\n",
              "      <td>39.649498</td>\n",
              "      <td>-85.029833</td>\n",
              "      <td>Cafe, Italian, Continental, Bakery</td>\n",
              "      <td>40.0</td>\n",
              "      <td>50.0</td>\n",
              "      <td>4.3</td>\n",
              "      <td>343</td>\n",
              "      <td>292</td>\n",
              "      <td>45</td>\n",
              "      <td>[15.639683059749336]</td>\n",
              "    </tr>\n",
              "    <tr>\n",
              "      <th>1671</th>\n",
              "      <td>ID_3636</td>\n",
              "      <td>39.375931</td>\n",
              "      <td>-85.016216</td>\n",
              "      <td>North Indian</td>\n",
              "      <td>40.0</td>\n",
              "      <td>50.0</td>\n",
              "      <td>3.8</td>\n",
              "      <td>36</td>\n",
              "      <td>23</td>\n",
              "      <td>65</td>\n",
              "      <td>[15.588158928974428]</td>\n",
              "    </tr>\n",
              "  </tbody>\n",
              "</table>\n",
              "</div>"
            ],
            "text/plain": [
              "     Restaurant   Latitude  Longitude  ... Reviews  Cook_Time                 Score\n",
              "602     ID_8529  39.356060 -85.011488  ...     972         65  [17.684207968361303]\n",
              "683     ID_5879  39.416346 -85.061462  ...     758         65   [17.19110521879318]\n",
              "973     ID_2421  39.351230 -85.012645  ...    1415         30   [16.44926855131655]\n",
              "80      ID_7753  39.571114 -85.069320  ...    1660         45  [16.385091337430623]\n",
              "785      ID_596  39.046004 -85.285628  ...      23        120   [16.26210396709533]\n",
              "1342    ID_7879  39.624209 -85.028977  ...     432         65  [16.229077249465618]\n",
              "717     ID_1415  39.527835 -85.015468  ...     845         65  [16.205579454648475]\n",
              "1743     ID_981  39.851230 -85.041865  ...     518         45  [16.135630592184757]\n",
              "928     ID_4204  39.382805 -85.271197  ...      72        120  [16.097475029150253]\n",
              "35      ID_1160  39.246289 -85.152915  ...     499         45  [15.895873220385326]\n",
              "1804    ID_4918  39.246569 -85.005987  ...      64         65  [15.882008724129168]\n",
              "770      ID_847  39.446138 -85.139694  ...    1174         65  [15.873529830095578]\n",
              "454     ID_5393  39.978028 -85.014355  ...     105         65   [15.75850009928384]\n",
              "1220    ID_2386  39.238262 -85.106835  ...     230         65  [15.733832425852036]\n",
              "1751    ID_2394  39.506094 -85.019381  ...     131         65  [15.706797843371117]\n",
              "1447    ID_2542  39.135302 -85.003190  ...      44         65  [15.696616239999026]\n",
              "790     ID_6261  39.272645 -85.063428  ...     235         65  [15.675466257035644]\n",
              "1058    ID_1841  39.914316 -85.074936  ...     941         45  [15.648880585372398]\n",
              "1634    ID_3859  39.649498 -85.029833  ...     292         45  [15.639683059749336]\n",
              "1671    ID_3636  39.375931 -85.016216  ...      23         65  [15.588158928974428]\n",
              "\n",
              "[20 rows x 11 columns]"
            ]
          },
          "metadata": {
            "tags": []
          },
          "execution_count": 460
        }
      ]
    },
    {
      "cell_type": "markdown",
      "metadata": {
        "id": "Ho85NVumFSn2"
      },
      "source": [
        "Looking at the top 20 results, it seems like the scoring system worked pretty well. All of the top restaurants had a longitude of very close to -85, which makes sense as location was the highest priority at a 9. The second highest scorer, however, had a high average cost, which was quite surprising because cost was an 8 in priority so its other factors may have made up for it."
      ]
    }
  ]
}